{
 "cells": [
  {
   "cell_type": "markdown",
   "id": "2275429d",
   "metadata": {},
   "source": [
    "Реалізувати сортування методом бульбашки.\n",
    "Підрахувати скільки разів було виконано\n",
    "переставлення елементів. Список вводиться в\n",
    "рядок через пробіл."
   ]
  },
  {
   "cell_type": "code",
   "execution_count": 2,
   "id": "02d941a3",
   "metadata": {},
   "outputs": [],
   "source": [
    "def task_4():\n",
    "    input_list = list(map(int, input().split()))\n",
    "\n",
    "    swap_count = 0\n",
    "    \n",
    "    n = len(input_list)\n",
    "    for i in range(n):\n",
    "        for j in range(0, n-i-1):\n",
    "            if input_list[j] > input_list[j+1]:\n",
    "                input_list[j], input_list[j+1] = input_list[j+1], input_list[j]\n",
    "                swap_count += 1\n",
    "                \n",
    "    print(f\"Було виконано {swap_count} переставлень\")"
   ]
  },
  {
   "cell_type": "markdown",
   "id": "50f3950f",
   "metadata": {},
   "source": [
    "Приклади:"
   ]
  },
  {
   "cell_type": "code",
   "execution_count": 3,
   "id": "c99e967b",
   "metadata": {},
   "outputs": [
    {
     "name": "stdout",
     "output_type": "stream",
     "text": [
      "5 6 23 8 12 5\n",
      "Було виконано 6 переставлень\n"
     ]
    }
   ],
   "source": [
    "task_4()"
   ]
  },
  {
   "cell_type": "code",
   "execution_count": 4,
   "id": "d8437fb1",
   "metadata": {},
   "outputs": [
    {
     "name": "stdout",
     "output_type": "stream",
     "text": [
      "7 3 1 7 4 2 8 2\n",
      "Було виконано 14 переставлень\n"
     ]
    }
   ],
   "source": [
    "task_4()"
   ]
  },
  {
   "cell_type": "markdown",
   "id": "05fc941f",
   "metadata": {},
   "source": [
    "За допомогою мови Markdown та HTML тегів для країни,\n",
    "відповідно до свого номеру варіанту (див. табл. 3.1), ввести\n",
    "інформацію щодо площини, населення, державного устрою, видатних\n",
    "персоналій, пам’яток культури та природи тощо."
   ]
  },
  {
   "cell_type": "markdown",
   "id": "a5e66a53",
   "metadata": {},
   "source": [
    "# Джибуті\n",
    "\n",
    "![Флаг Джибуті](https://upload.wikimedia.org/wikipedia/commons/thumb/3/34/Flag_of_Djibouti.svg/1920px-Flag_of_Djibouti.svg.png)\n",
    "\n",
    "## Загальна інформація\n",
    "*Джибуті - країна, розташована на Африканському Розі. Вона відома своєю стратегічною позицією та багатою історією.*\n",
    "\n",
    "### Площа\n",
    "**Площа Джибуті становить приблизно 23,200 квадратних кілометрів.**\n",
    "\n",
    "### Населення\n",
    "<span style=\"color: blue;\">Джибуті має приблизно 1,016,097 жителів.</span>\n",
    "\n",
    "## Державний устрій\n",
    "<br>\n",
    "<div style=\"border: 2px solid black; padding: 10px;\">\n",
    "<p style=\"color:green;\">Джибуті є республікою з президентсько-парламентською системою. Президент є главою держави і уряду.</p>\n",
    "</div>\n",
    "\n",
    "## Видатні персоналії\n",
    "- Ісмаїл Омар Гелле - президент Джибуті.\n",
    "- Ахмед Діні Ахмед - відомий політик та борець за незалежність.\n",
    "- Саадія Мусе - відома поетеса та письменниця.\n",
    "\n",
    "## Пам'ятки культури\n",
    "<p style=\"color:red;\">Джибуті славиться своєю культурною спадщиною, включаючи:</p>\n",
    "- Озеро Ассаль\n",
    "- Гори Годаве та інші природні ландшафти країни\n",
    "- Музеї та історичні місця Джибуті\n",
    "\n",
    "## Природа\n",
    "Джибуті відома своєю красою природи, включаючи:\n",
    "- Пустелі та солоні озера\n",
    "- Вулкани та гірські масиви\n",
    "- Багатий біорізноманіттям флори та фауни\n",
    "\n",
    "[Докладніше про Джибуті](https://uk.wikipedia.org/wiki/%D0%94%D0%B6%D0%B8%D0%B1%D1%83%D1%82%D1%96)\n",
    "\n",
    "<table>\n",
    "  <tr>\n",
    "    <th>Мова</th>\n",
    "    <th>Валюта</th>\n",
    "    <th>Часовий пояс</th>\n",
    "  </tr>\n",
    "  <tr>\n",
    "    <td>Французька, арабська</td>\n",
    "    <td>Джибутійський франк (DJF)</td>\n",
    "    <td>UTC+3</td>\n",
    "  </tr>\n",
    "</table>\n",
    "\n",
    "## <svg width=\"100\" height=\"50\" xmlns=\"http://www.w3.org/2000/svg\">\n",
    "  <rect width=\"100\" height=\"50\" fill=\"#007a5e\" />\n",
    "  <polygon points=\"0,0 100,25 0,50\" fill=\"#ffffff\"/>\n",
    "  <polygon points=\"0,0 50,25 0,50\" fill=\"#ff0000\"/>\n",
    "  <polygon points=\"0,0 50,25 0,50\" fill=\"#ffcc00\"/>\n",
    "</svg>"
   ]
  },
  {
   "cell_type": "code",
   "execution_count": null,
   "id": "e85f51d4",
   "metadata": {},
   "outputs": [],
   "source": []
  }
 ],
 "metadata": {
  "kernelspec": {
   "display_name": "Python 3 (ipykernel)",
   "language": "python",
   "name": "python3"
  },
  "language_info": {
   "codemirror_mode": {
    "name": "ipython",
    "version": 3
   },
   "file_extension": ".py",
   "mimetype": "text/x-python",
   "name": "python",
   "nbconvert_exporter": "python",
   "pygments_lexer": "ipython3",
   "version": "3.11.5"
  }
 },
 "nbformat": 4,
 "nbformat_minor": 5
}
